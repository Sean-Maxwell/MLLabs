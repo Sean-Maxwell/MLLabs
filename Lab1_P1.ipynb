{
 "cells": [
  {
   "cell_type": "code",
   "execution_count": 3,
   "metadata": {},
   "outputs": [],
   "source": [
    "import pandas as pd\n",
    "import os\n",
    "import numpy as np\n",
    "import statistics as stats\n",
    "import matplotlib.pyplot as plt\n",
    "import csv"
   ]
  },
  {
   "cell_type": "code",
   "execution_count": 4,
   "metadata": {},
   "outputs": [
    {
     "data": {
      "text/html": [
       "<div>\n",
       "<style scoped>\n",
       "    .dataframe tbody tr th:only-of-type {\n",
       "        vertical-align: middle;\n",
       "    }\n",
       "\n",
       "    .dataframe tbody tr th {\n",
       "        vertical-align: top;\n",
       "    }\n",
       "\n",
       "    .dataframe thead th {\n",
       "        text-align: right;\n",
       "    }\n",
       "</style>\n",
       "<table border=\"1\" class=\"dataframe\">\n",
       "  <thead>\n",
       "    <tr style=\"text-align: right;\">\n",
       "      <th></th>\n",
       "      <th>Outlook</th>\n",
       "      <th>Temperature</th>\n",
       "      <th>Humidity</th>\n",
       "      <th>Wind</th>\n",
       "      <th>Tennis or not</th>\n",
       "    </tr>\n",
       "  </thead>\n",
       "  <tbody>\n",
       "    <tr>\n",
       "      <th>0</th>\n",
       "      <td>sunny</td>\n",
       "      <td>85</td>\n",
       "      <td>85</td>\n",
       "      <td>False</td>\n",
       "      <td>no</td>\n",
       "    </tr>\n",
       "    <tr>\n",
       "      <th>1</th>\n",
       "      <td>sunny</td>\n",
       "      <td>80</td>\n",
       "      <td>90</td>\n",
       "      <td>True</td>\n",
       "      <td>no</td>\n",
       "    </tr>\n",
       "    <tr>\n",
       "      <th>2</th>\n",
       "      <td>overcast</td>\n",
       "      <td>83</td>\n",
       "      <td>86</td>\n",
       "      <td>False</td>\n",
       "      <td>yes</td>\n",
       "    </tr>\n",
       "    <tr>\n",
       "      <th>3</th>\n",
       "      <td>rainy</td>\n",
       "      <td>70</td>\n",
       "      <td>96</td>\n",
       "      <td>False</td>\n",
       "      <td>yes</td>\n",
       "    </tr>\n",
       "    <tr>\n",
       "      <th>4</th>\n",
       "      <td>rainy</td>\n",
       "      <td>68</td>\n",
       "      <td>80</td>\n",
       "      <td>False</td>\n",
       "      <td>yes</td>\n",
       "    </tr>\n",
       "  </tbody>\n",
       "</table>\n",
       "</div>"
      ],
      "text/plain": [
       "    Outlook  Temperature  Humidity   Wind Tennis or not\n",
       "0     sunny           85        85  False            no\n",
       "1     sunny           80        90   True            no\n",
       "2  overcast           83        86  False           yes\n",
       "3     rainy           70        96  False           yes\n",
       "4     rainy           68        80  False           yes"
      ]
     },
     "execution_count": 4,
     "metadata": {},
     "output_type": "execute_result"
    }
   ],
   "source": [
    "##Reading in the weather raw CSV File into Azure Notebooks to begin with\n",
    "variable = pd.read_csv(r\"C:\\Users\\smaxw\\Downloads\\weatherRaw.csv\")\n",
    "variable.head()"
   ]
  },
  {
   "cell_type": "code",
   "execution_count": 5,
   "metadata": {},
   "outputs": [
    {
     "name": "stdout",
     "output_type": "stream",
     "text": [
      "     Outlook  Temperature  Humidity   Wind Tennis or not\n",
      "0      sunny           85        85  False            no\n",
      "1      sunny           80        90   True            no\n",
      "2   overcast           83        86  False           yes\n",
      "3      rainy           70        96  False           yes\n",
      "4      rainy           68        80  False           yes\n",
      "5      rainy           65        70   True            no\n",
      "6   overcast           64        65   True           yes\n",
      "7      sunny           72        95  False            no\n",
      "8      sunny           69        70  False           yes\n",
      "9      rainy           75        80  False           yes\n",
      "10     sunny           75        70   True           yes\n",
      "11  overcast           72        90   True           yes\n",
      "12  overcast           81        75  False           yes\n",
      "13     rainy           71        91   True            no\n",
      "Outlook\tTemperature\tHumidity\tWind\tTennis or not\t"
     ]
    }
   ],
   "source": [
    "list = pd.read_csv(r\"C:\\Users\\smaxw\\Downloads\\weatherRaw.csv\")\n",
    "print (list)\n",
    "\n",
    "## Printing a list in tabular format, requires you to do a string \n",
    "for item in list:\n",
    "    print(item,end=\"\\t\")"
   ]
  },
  {
   "cell_type": "code",
   "execution_count": 6,
   "metadata": {},
   "outputs": [
    {
     "name": "stdout",
     "output_type": "stream",
     "text": [
      "The number of sunny instances :  5\n"
     ]
    }
   ],
   "source": [
    "##Reading file, needs to be done as a pre-requisite to the counting of instances \n",
    "file = open(r\"C:\\Users\\smaxw\\Downloads\\weatherRaw.csv\")\n",
    "\n",
    "## Counting the number of instances in the weatherRaw.csv file\n",
    "data = file.read()\n",
    "instances = data.count(\"sunny\")\n",
    "print(\"The number of sunny instances : \",instances)"
   ]
  },
  {
   "cell_type": "code",
   "execution_count": 7,
   "metadata": {},
   "outputs": [
    {
     "name": "stdout",
     "output_type": "stream",
     "text": [
      "The number of overcast instances :  4\n"
     ]
    }
   ],
   "source": [
    "##Reading file, needs to be done as a pre-requisite to the counting of instances \n",
    "f = open(r\"C:\\Users\\smaxw\\Downloads\\weatherRaw.csv\")\n",
    "\n",
    "## Counting the number of instances in the weatherRaw.csv file\n",
    "data = f.read()\n",
    "instances = data.count(\"overcast\")\n",
    "print(\"The number of overcast instances : \",instances)"
   ]
  },
  {
   "cell_type": "code",
   "execution_count": 8,
   "metadata": {},
   "outputs": [
    {
     "name": "stdout",
     "output_type": "stream",
     "text": [
      "Mean temperature 73.57142857142857\n",
      "Max temperature 85\n",
      "Min temperature 64\n",
      "Mean Humidity 96\n",
      "Max Humidity 65\n",
      "Min Humidity 81.64285714285714\n"
     ]
    }
   ],
   "source": [
    "##Getting the min,max and avg of humidity and temperature.\n",
    "df=pd.read_csv(r\"C:\\Users\\smaxw\\Downloads\\weatherRaw.csv\")\n",
    "\n",
    "o=df['Temperature'].mean()\n",
    "p=df['Temperature'].max()\n",
    "q=df['Temperature'].min()\n",
    "\n",
    "r=df['Humidity'].max()\n",
    "s=df['Humidity'].min()\n",
    "t=df['Humidity'].mean()\n",
    "\n",
    "print('Mean temperature',o)\n",
    "print('Max temperature',p)\n",
    "print('Min temperature',q)\n",
    "\n",
    "print('Mean Humidity',r)\n",
    "print('Max Humidity',s)\n",
    "print('Min Humidity',t)"
   ]
  },
  {
   "cell_type": "code",
   "execution_count": 9,
   "metadata": {},
   "outputs": [
    {
     "name": "stdout",
     "output_type": "stream",
     "text": [
      "The number of Yes's are : 9\n",
      "The number of No's are : 6\n"
     ]
    }
   ],
   "source": [
    "f = open(r'C:\\Users\\smaxw\\Downloads\\weatherRaw.csv')\n",
    "\n",
    "d = f.read()\n",
    "NumOfYes = d.count(\"yes\")\n",
    "NumOfNo = d.count(\"no\")\n",
    "\n",
    "print (\"The number of Yes's are :\",NumOfYes)\n",
    "print (\"The number of No's are :\",NumOfNo)"
   ]
  },
  {
   "cell_type": "code",
   "execution_count": 17,
   "metadata": {},
   "outputs": [
    {
     "data": {
      "image/png": "[encoded data removed]",
      "text/plain": [
       "<Figure size 432x288 with 1 Axes>"
      ]
     },
     "metadata": {
      "needs_background": "light"
     },
     "output_type": "display_data"
    }
   ],
   "source": [
    "df=pd.read_csv(r\"C:\\Users\\smaxw\\Downloads\\weatherRaw.csv\")\n",
    "\n",
    "# Plot a chart of temperature and humitidy\n",
    "# Taken from matplotlib website example on categorical plotting\n",
    "tennisOrNot = df['Tennis or not']\n",
    "temp = df['Temperature']\n",
    "humidity = df['Humidity']\n",
    "\n",
    "fig, ax = plt.subplots()\n",
    "ax.plot(humidity,tennisOrNot, label=\"Humidity\")\n",
    "ax.plot(temp,tennisOrNot, label=\"Temp\")\n",
    "\n",
    "ax.legend()\n",
    "\n",
    "plt.show()"
   ]
  },
  {
   "cell_type": "code",
   "execution_count": null,
   "metadata": {},
   "outputs": [],
   "source": []
  }
 ],
 "metadata": {
  "kernelspec": {
   "display_name": "Python 3",
   "language": "python",
   "name": "python3"
  },
  "language_info": {
   "codemirror_mode": {
    "name": "ipython",
    "version": 3
   },
   "file_extension": ".py",
   "mimetype": "text/x-python",
   "name": "python",
   "nbconvert_exporter": "python",
   "pygments_lexer": "ipython3",
   "version": "3.8.3"
  }
 },
 "nbformat": 4,
 "nbformat_minor": 4
}
