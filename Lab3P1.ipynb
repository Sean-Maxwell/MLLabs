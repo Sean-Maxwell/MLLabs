{
 "cells": [
  {
   "cell_type": "markdown",
   "metadata": {},
   "source": [
    "## Identify any missing data. "
   ]
  },
  {
   "cell_type": "markdown",
   "metadata": {},
   "source": [
    "## Mark the missing data"
   ]
  },
  {
   "cell_type": "code",
   "execution_count": 1,
   "metadata": {},
   "outputs": [],
   "source": [
    "import pandas as pd\n",
    "import numpy as np\n",
    "import matplotlib.pyplot as plt\n",
    "from sklearn import *\n",
    "# Useful for matplotlib in JN's\n",
    "%matplotlib inline"
   ]
  },
  {
   "cell_type": "code",
   "execution_count": 2,
   "metadata": {},
   "outputs": [
    {
     "name": "stdout",
     "output_type": "stream",
     "text": [
      "    preg  plas  pres  skin  test  mass   pedi  age  class\n",
      "0      6   148    72    35     0  33.6  0.627   50      1\n",
      "1      1    85    66    29     0  26.6  0.351   31      0\n",
      "2      8   183    64     0     0  23.3  0.672   32      1\n",
      "3      1    89    66    23    94  28.1  0.167   21      0\n",
      "4      0   137    40    35   168  43.1  2.288   33      1\n",
      "5      5   116    74     0     0  25.6  0.201   30      0\n",
      "6      3    78    50    32    88  31.0  0.248   26      1\n",
      "7     10   115     0     0     0  35.3  0.134   29      0\n",
      "8      2   197    70    45   543  30.5  0.158   53      1\n",
      "9      8   125    96     0     0   0.0  0.232   54      1\n",
      "10     4   110    92     0     0  37.6  0.191   30      0\n",
      "11    10   168    74     0     0  38.0  0.537   34      1\n",
      "12    10   139    80     0     0  27.1  1.441   57      0\n",
      "13     1   189    60    23   846  30.1  0.398   59      1\n",
      "14     5   166    72    19   175  25.8  0.587   51      1\n",
      "15     7   100     0     0     0  30.0  0.484   32      1\n",
      "16     0   118    84    47   230  45.8  0.551   31      1\n",
      "17     7   107    74     0     0  29.6  0.254   31      1\n",
      "18     1   103    30    38    83  43.3  0.183   33      0\n",
      "19     1   115    70    30    96  34.6  0.529   32      1\n"
     ]
    }
   ],
   "source": [
    "# USeful for matplotlib in JN's\n",
    "%matplotlib inline\n",
    "fileName = r'C:\\Users\\smaxw\\Downloads\\pima-indians-diabetes.csv'\n",
    "namesCol = [\n",
    "'preg',\n",
    "'plas',\n",
    "'pres',\n",
    "'skin',\n",
    "'test',\n",
    "'mass',\n",
    "'pedi',\n",
    "'age',\n",
    "'class'\n",
    "]\n",
    "\n",
    "data = pd.read_csv(fileName, names=namesCol)\n",
    "print(data.head(20))"
   ]
  },
  {
   "cell_type": "code",
   "execution_count": 3,
   "metadata": {},
   "outputs": [
    {
     "name": "stdout",
     "output_type": "stream",
     "text": [
      "             preg        plas        pres        skin        test        mass  \\\n",
      "count  768.000000  768.000000  768.000000  768.000000  768.000000  768.000000   \n",
      "mean     3.845052  120.894531   69.105469   20.536458   79.799479   31.992578   \n",
      "std      3.369578   31.972618   19.355807   15.952218  115.244002    7.884160   \n",
      "min      0.000000    0.000000    0.000000    0.000000    0.000000    0.000000   \n",
      "25%      1.000000   99.000000   62.000000    0.000000    0.000000   27.300000   \n",
      "50%      3.000000  117.000000   72.000000   23.000000   30.500000   32.000000   \n",
      "75%      6.000000  140.250000   80.000000   32.000000  127.250000   36.600000   \n",
      "max     17.000000  199.000000  122.000000   99.000000  846.000000   67.100000   \n",
      "\n",
      "             pedi         age       class  \n",
      "count  768.000000  768.000000  768.000000  \n",
      "mean     0.471876   33.240885    0.348958  \n",
      "std      0.331329   11.760232    0.476951  \n",
      "min      0.078000   21.000000    0.000000  \n",
      "25%      0.243750   24.000000    0.000000  \n",
      "50%      0.372500   29.000000    0.000000  \n",
      "75%      0.626250   41.000000    1.000000  \n",
      "max      2.420000   81.000000    1.000000  \n",
      "preg       int64\n",
      "plas       int64\n",
      "pres       int64\n",
      "skin       int64\n",
      "test       int64\n",
      "mass     float64\n",
      "pedi     float64\n",
      "age        int64\n",
      "class      int64\n",
      "dtype: object\n"
     ]
    }
   ],
   "source": [
    "print(data.describe())\n",
    "print(data.dtypes)"
   ]
  },
  {
   "cell_type": "code",
   "execution_count": 20,
   "metadata": {},
   "outputs": [
    {
     "name": "stdout",
     "output_type": "stream",
     "text": [
      "preg     111\n",
      "plas       5\n",
      "pres      35\n",
      "skin       0\n",
      "test     374\n",
      "mass       0\n",
      "pedi       0\n",
      "age        0\n",
      "class    500\n",
      "dtype: int64\n",
      "\n",
      "preg     0\n",
      "plas     0\n",
      "pres     0\n",
      "skin     0\n",
      "test     0\n",
      "mass     0\n",
      "pedi     0\n",
      "age      0\n",
      "class    0\n",
      "dtype: int64\n",
      "\n",
      "preg       3.369578\n",
      "plas      31.972618\n",
      "pres      19.355807\n",
      "skin      10.476982\n",
      "test     115.244002\n",
      "mass       6.924988\n",
      "pedi       0.331329\n",
      "age       11.760232\n",
      "class      0.476951\n",
      "dtype: float64\n",
      "\n",
      "preg       3.845052\n",
      "plas     120.894531\n",
      "pres      69.105469\n",
      "skin      29.153420\n",
      "test      79.799479\n",
      "mass      32.457464\n",
      "pedi       0.471876\n",
      "age       33.240885\n",
      "class      0.348958\n",
      "dtype: float64\n",
      "\n",
      "0\n",
      "\n",
      "0\n",
      "\n",
      "33.240885416666664\n"
     ]
    }
   ],
   "source": [
    "print((data == 0).sum())\n",
    "print()\n",
    "print((data < 0).sum())\n",
    "print()\n",
    "print(data.std())\n",
    "print()\n",
    "print(data.mean())\n",
    "print()\n",
    "print((data['age'] == 0).sum())\n",
    "print()\n",
    "print((data['age'] < 0).sum())\n",
    "print()\n",
    "print(data['age'].mean())"
   ]
  },
  {
   "cell_type": "code",
   "execution_count": 5,
   "metadata": {},
   "outputs": [
    {
     "name": "stdout",
     "output_type": "stream",
     "text": [
      "Attribue: PREG\n",
      "Summary:\n",
      "N outside of two STD:\t 34 \t( 4.43 %)\n",
      "N outside of three STD:\t 4 \t( 0.52 %)\n"
     ]
    },
    {
     "data": {
      "image/png": "[encoded data removed]",
      "text/plain": [
       "<Figure size 504x504 with 1 Axes>"
      ]
     },
     "metadata": {
      "needs_background": "light"
     },
     "output_type": "display_data"
    },
    {
     "name": "stdout",
     "output_type": "stream",
     "text": [
      "Attribue: PLAS\n",
      "Summary:\n",
      "N outside of two STD:\t 36 \t( 4.69 %)\n",
      "N outside of three STD:\t 5 \t( 0.65 %)\n"
     ]
    },
    {
     "data": {
      "image/png": "[encoded data removed]",
      "text/plain": [
       "<Figure size 504x504 with 1 Axes>"
      ]
     },
     "metadata": {
      "needs_background": "light"
     },
     "output_type": "display_data"
    },
    {
     "name": "stdout",
     "output_type": "stream",
     "text": [
      "Attribue: PRES\n",
      "Summary:\n",
      "N outside of two STD:\t 45 \t( 5.86 %)\n",
      "N outside of three STD:\t 35 \t( 4.56 %)\n"
     ]
    },
    {
     "data": {
      "image/png": "[encoded data removed]",
      "text/plain": [
       "<Figure size 504x504 with 1 Axes>"
      ]
     },
     "metadata": {
      "needs_background": "light"
     },
     "output_type": "display_data"
    },
    {
     "name": "stdout",
     "output_type": "stream",
     "text": [
      "Attribue: SKIN\n",
      "Summary:\n",
      "N outside of two STD:\t 6 \t( 0.78 %)\n",
      "N outside of three STD:\t 1 \t( 0.13 %)\n"
     ]
    },
    {
     "data": {
      "image/png": "[encoded data removed]",
      "text/plain": [
       "<Figure size 504x504 with 1 Axes>"
      ]
     },
     "metadata": {
      "needs_background": "light"
     },
     "output_type": "display_data"
    },
    {
     "name": "stdout",
     "output_type": "stream",
     "text": [
      "Attribue: TEST\n",
      "Summary:\n",
      "N outside of two STD:\t 35 \t( 4.56 %)\n",
      "N outside of three STD:\t 18 \t( 2.34 %)\n"
     ]
    },
    {
     "data": {
      "image/png": "[encoded data removed]",
      "text/plain": [
       "<Figure size 504x504 with 1 Axes>"
      ]
     },
     "metadata": {
      "needs_background": "light"
     },
     "output_type": "display_data"
    },
    {
     "name": "stdout",
     "output_type": "stream",
     "text": [
      "Attribue: MASS\n",
      "Summary:\n",
      "N outside of two STD:\t 27 \t( 3.52 %)\n",
      "N outside of three STD:\t 14 \t( 1.82 %)\n"
     ]
    },
    {
     "data": {
      "image/png": "[encoded data removed]",
      "text/plain": [
       "<Figure size 504x504 with 1 Axes>"
      ]
     },
     "metadata": {
      "needs_background": "light"
     },
     "output_type": "display_data"
    },
    {
     "name": "stdout",
     "output_type": "stream",
     "text": [
      "Attribue: PEDI\n",
      "Summary:\n",
      "N outside of two STD:\t 39 \t( 5.08 %)\n",
      "N outside of three STD:\t 11 \t( 1.43 %)\n"
     ]
    },
    {
     "data": {
      "image/png": "[encoded data removed]",
      "text/plain": [
       "<Figure size 504x504 with 1 Axes>"
      ]
     },
     "metadata": {
      "needs_background": "light"
     },
     "output_type": "display_data"
    },
    {
     "name": "stdout",
     "output_type": "stream",
     "text": [
      "Attribue: AGE\n",
      "Summary:\n",
      "N outside of two STD:\t 47 \t( 6.12 %)\n",
      "N outside of three STD:\t 5 \t( 0.65 %)\n"
     ]
    },
    {
     "data": {
      "image/png": "[encoded data removed]",
      "text/plain": [
       "<Figure size 504x504 with 1 Axes>"
      ]
     },
     "metadata": {
      "needs_background": "light"
     },
     "output_type": "display_data"
    },
    {
     "name": "stdout",
     "output_type": "stream",
     "text": [
      "Attribue: CLASS\n",
      "Summary:\n",
      "N outside of two STD:\t 0 \t( 0.0 %)\n",
      "N outside of three STD:\t 0 \t( 0.0 %)\n"
     ]
    },
    {
     "data": {
      "image/png": "[encoded data removed]",
      "text/plain": [
       "<Figure size 504x504 with 1 Axes>"
      ]
     },
     "metadata": {
      "needs_background": "light"
     },
     "output_type": "display_data"
    }
   ],
   "source": [
    "def plotAttribute(featureName):\n",
    "    oneSTD = data[featureName].std()\n",
    "    twoSTD = oneSTD * 2\n",
    "    threeSTD = oneSTD * 3\n",
    "    meanValue = data[featureName].mean()\n",
    "\n",
    "    print(\"Attribue:\", featureName.upper())\n",
    "    print(\"Summary:\")\n",
    "    instances = data.shape[0]\n",
    "    outsideTwo = ((data[featureName] < (meanValue - twoSTD)).sum() + (data[featureName] > (meanValue + twoSTD)).sum())\n",
    "    outsideThree = ((data[featureName] < (meanValue - threeSTD)).sum() + (data[featureName] > (meanValue + threeSTD)).sum())\n",
    "\n",
    "    print(\"N outside of two STD:\\t\", outsideTwo, \"\\t(\", round((outsideTwo/instances) *100, 2),\"%)\")\n",
    "    print(\"N outside of three STD:\\t\", outsideThree, \"\\t(\", round((outsideThree/instances) * 100, 2),\"%)\")\n",
    "\n",
    "    plt.axvline(x=(meanValue - oneSTD), label='One STD', c=\"g\")\n",
    "    plt.axvline(x=(meanValue + oneSTD), c=\"g\")\n",
    "    \n",
    "    plt.axvline(x=(meanValue - twoSTD), label='Two STD', c=\"y\")\n",
    "    plt.axvline(x=(meanValue + twoSTD), c=\"y\")\n",
    "    plt.axvline(x=(meanValue - threeSTD), label='Three STD', c=\"r\")\n",
    "    plt.axvline(x=(meanValue + threeSTD), c=\"r\")\n",
    "    data[featureName].hist(figsize=(7,7))\n",
    "    plt.legend()\n",
    "    plt.show()\n",
    "    \n",
    "for attribute in namesCol:\n",
    "    plotAttribute(attribute)"
   ]
  },
  {
   "cell_type": "markdown",
   "metadata": {},
   "source": [
    "## Choose to either remove or impute dataIdentify and discuss any outliers (you do not have to address, just identify)"
   ]
  },
  {
   "cell_type": "code",
   "execution_count": 19,
   "metadata": {},
   "outputs": [
    {
     "name": "stdout",
     "output_type": "stream",
     "text": [
      "    preg   plas  pres  skin   test  mass   pedi  age  class\n",
      "0    6.0  148.0  72.0  35.0    NaN  33.6  0.627   50    1.0\n",
      "1    1.0   85.0  66.0  29.0    NaN  26.6  0.351   31    NaN\n",
      "2    8.0  183.0  64.0   NaN    NaN  23.3  0.672   32    1.0\n",
      "3    1.0   89.0  66.0  23.0   94.0  28.1  0.167   21    NaN\n",
      "4    NaN  137.0  40.0  35.0  168.0  43.1  2.288   33    1.0\n",
      "5    5.0  116.0  74.0   NaN    NaN  25.6  0.201   30    NaN\n",
      "6    3.0   78.0  50.0  32.0   88.0  31.0  0.248   26    1.0\n",
      "7   10.0  115.0   NaN   NaN    NaN  35.3  0.134   29    NaN\n",
      "8    2.0  197.0  70.0  45.0  543.0  30.5  0.158   53    1.0\n",
      "9    8.0  125.0  96.0   NaN    NaN   NaN  0.232   54    1.0\n",
      "10   4.0  110.0  92.0   NaN    NaN  37.6  0.191   30    NaN\n",
      "11  10.0  168.0  74.0   NaN    NaN  38.0  0.537   34    1.0\n",
      "12  10.0  139.0  80.0   NaN    NaN  27.1  1.441   57    NaN\n",
      "13   1.0  189.0  60.0  23.0  846.0  30.1  0.398   59    1.0\n",
      "14   5.0  166.0  72.0  19.0  175.0  25.8  0.587   51    1.0\n",
      "15   7.0  100.0   NaN   NaN    NaN  30.0  0.484   32    1.0\n",
      "16   NaN  118.0  84.0  47.0  230.0  45.8  0.551   31    1.0\n",
      "17   7.0  107.0  74.0   NaN    NaN  29.6  0.254   31    1.0\n",
      "18   1.0  103.0  30.0  38.0   83.0  43.3  0.183   33    NaN\n",
      "19   1.0  115.0  70.0  30.0   96.0  34.6  0.529   32    1.0\n",
      "\n",
      "    preg  plas  pres  skin  test  mass   pedi  age  class\n",
      "0      6   148    72    35     0  33.6  0.627   50      1\n",
      "1      1    85    66    29     0  26.6  0.351   31      0\n",
      "2      8   183    64     0     0  23.3  0.672   32      1\n",
      "3      1    89    66    23    94  28.1  0.167   21      0\n",
      "4      0   137    40    35   168  43.1  2.288   33      1\n",
      "5      5   116    74     0     0  25.6  0.201   30      0\n",
      "6      3    78    50    32    88  31.0  0.248   26      1\n",
      "7     10   115     0     0     0  35.3  0.134   29      0\n",
      "8      2   197    70    45   543  30.5  0.158   53      1\n",
      "9      8   125    96     0     0   NaN  0.232   54      1\n",
      "10     4   110    92     0     0  37.6  0.191   30      0\n",
      "11    10   168    74     0     0  38.0  0.537   34      1\n",
      "12    10   139    80     0     0  27.1  1.441   57      0\n",
      "13     1   189    60    23   846  30.1  0.398   59      1\n",
      "14     5   166    72    19   175  25.8  0.587   51      1\n",
      "15     7   100     0     0     0  30.0  0.484   32      1\n",
      "16     0   118    84    47   230  45.8  0.551   31      1\n",
      "17     7   107    74     0     0  29.6  0.254   31      1\n",
      "18     1   103    30    38    83  43.3  0.183   33      0\n",
      "19     1   115    70    30    96  34.6  0.529   32      1\n",
      "\n",
      "\n",
      "\n",
      " Missing data: preg      0\n",
      "plas      0\n",
      "pres      0\n",
      "skin      0\n",
      "test      0\n",
      "mass     11\n",
      "pedi      0\n",
      "age       0\n",
      "class     0\n",
      "dtype: int64\n",
      "\n",
      "    preg  plas  pres  skin  test  mass   pedi  age  class\n",
      "0      6   148    72  35.0     0  33.6  0.627   50      1\n",
      "1      1    85    66  29.0     0  26.6  0.351   31      0\n",
      "2      8   183    64   NaN     0  23.3  0.672   32      1\n",
      "3      1    89    66  23.0    94  28.1  0.167   21      0\n",
      "4      0   137    40  35.0   168  43.1  2.288   33      1\n",
      "5      5   116    74   NaN     0  25.6  0.201   30      0\n",
      "6      3    78    50  32.0    88  31.0  0.248   26      1\n",
      "7     10   115     0   NaN     0  35.3  0.134   29      0\n",
      "8      2   197    70  45.0   543  30.5  0.158   53      1\n",
      "9      8   125    96   NaN     0   NaN  0.232   54      1\n",
      "10     4   110    92   NaN     0  37.6  0.191   30      0\n",
      "11    10   168    74   NaN     0  38.0  0.537   34      1\n",
      "12    10   139    80   NaN     0  27.1  1.441   57      0\n",
      "13     1   189    60  23.0   846  30.1  0.398   59      1\n",
      "14     5   166    72  19.0   175  25.8  0.587   51      1\n",
      "15     7   100     0   NaN     0  30.0  0.484   32      1\n",
      "16     0   118    84  47.0   230  45.8  0.551   31      1\n",
      "17     7   107    74   NaN     0  29.6  0.254   31      1\n",
      "18     1   103    30  38.0    83  43.3  0.183   33      0\n",
      "19     1   115    70  30.0    96  34.6  0.529   32      1\n"
     ]
    }
   ],
   "source": [
    "data = pd.read_csv(fileName, names=namesCol)\n",
    "data = data.mask(data == 0, np.NaN)\n",
    "print(data.head(20))\n",
    "print()\n",
    "\n",
    "data = pd.read_csv(fileName, names=namesCol)\n",
    "data[\"mass\"] = data[\"mass\"].mask(data[\"mass\"] == 0, np.NaN)\n",
    "print(data.head(20))\n",
    "print()\n",
    "print(\"\\n\\n Missing data:\", data.isnull().sum())\n",
    "print()\n",
    "\n",
    "data = pd.read_csv(fileName, names=namesCol)\n",
    "data[[\"skin\", \"mass\"]] = data[[\"skin\", \"mass\"]].mask(data[[\"skin\",\"mass\"]] == 0,np.NaN)\n",
    "print(data.head(20))"
   ]
  },
  {
   "cell_type": "code",
   "execution_count": 7,
   "metadata": {},
   "outputs": [
    {
     "name": "stdout",
     "output_type": "stream",
     "text": [
      "    preg  plas  pres  skin  test  mass   pedi  age  class\n",
      "0      6   148    72  35.0     0  33.6  0.627   50      1\n",
      "1      1    85    66  29.0     0  26.6  0.351   31      0\n",
      "2      8   183    64   NaN     0  23.3  0.672   32      1\n",
      "3      1    89    66  23.0    94  28.1  0.167   21      0\n",
      "4      0   137    40  35.0   168  43.1  2.288   33      1\n",
      "5      5   116    74   NaN     0  25.6  0.201   30      0\n",
      "6      3    78    50  32.0    88  31.0  0.248   26      1\n",
      "7     10   115     0   NaN     0  35.3  0.134   29      0\n",
      "8      2   197    70  45.0   543  30.5  0.158   53      1\n",
      "9      8   125    96   NaN     0   NaN  0.232   54      1\n",
      "10     4   110    92   NaN     0  37.6  0.191   30      0\n",
      "11    10   168    74   NaN     0  38.0  0.537   34      1\n",
      "12    10   139    80   NaN     0  27.1  1.441   57      0\n",
      "13     1   189    60  23.0   846  30.1  0.398   59      1\n",
      "14     5   166    72  19.0   175  25.8  0.587   51      1\n",
      "15     7   100     0   NaN     0  30.0  0.484   32      1\n",
      "16     0   118    84  47.0   230  45.8  0.551   31      1\n",
      "17     7   107    74   NaN     0  29.6  0.254   31      1\n",
      "18     1   103    30  38.0    83  43.3  0.183   33      0\n",
      "19     1   115    70  30.0    96  34.6  0.529   32      1\n",
      "Missing Data: preg       0\n",
      "plas       0\n",
      "pres       0\n",
      "skin     227\n",
      "test       0\n",
      "mass      11\n",
      "pedi       0\n",
      "age        0\n",
      "class      0\n",
      "dtype: int64\n",
      "\n",
      "\n",
      "\n",
      "Percentage of Skin missing: 29.557291666666668 %\n",
      "Percentage of Mass missing: 1.4322916666666665 %\n"
     ]
    }
   ],
   "source": [
    "data[[\"skin\", \"mass\"]] = data[[\"skin\", \"mass\"]].mask(data[[\"skin\", \"mass\"]] == 0, np.NaN)\n",
    "print(data.head(20))\n",
    "print(\"Missing Data:\", data.isnull().sum())\n",
    "print(\"\\n\\n\")\n",
    "perSkin = (data[\"skin\"].isnull().sum() / data.shape[0]) * 100\n",
    "perMass = (data[\"mass\"].isnull().sum() / data.shape[0]) * 100\n",
    "print(\"Percentage of Skin missing:\", perSkin ,\"%\")\n",
    "print(\"Percentage of Mass missing:\", perMass ,\"%\")\n",
    "data.to_csv(\"prima-NaN.csv\", na_rep='NaN')"
   ]
  },
  {
   "cell_type": "code",
   "execution_count": 8,
   "metadata": {},
   "outputs": [
    {
     "name": "stdout",
     "output_type": "stream",
     "text": [
      "preg     0\n",
      "plas     0\n",
      "pres     0\n",
      "skin     0\n",
      "test     0\n",
      "mass     0\n",
      "pedi     0\n",
      "age      0\n",
      "class    0\n",
      "dtype: int64\n",
      "    preg  plas  pres  skin  test  mass   pedi  age  class\n",
      "0      6   148    72    35     0  33.6  0.627   50      1\n",
      "1      1    85    66    29     0  26.6  0.351   31      0\n",
      "2      8   183    64     0     0  23.3  0.672   32      1\n",
      "3      1    89    66    23    94  28.1  0.167   21      0\n",
      "4      0   137    40    35   168  43.1  2.288   33      1\n",
      "5      5   116    74     0     0  25.6  0.201   30      0\n",
      "6      3    78    50    32    88  31.0  0.248   26      1\n",
      "7     10   115     0     0     0  35.3  0.134   29      0\n",
      "8      2   197    70    45   543  30.5  0.158   53      1\n",
      "9      8   125    96     0     0   NaN  0.232   54      1\n",
      "10     4   110    92     0     0  37.6  0.191   30      0\n",
      "11    10   168    74     0     0  38.0  0.537   34      1\n",
      "12    10   139    80     0     0  27.1  1.441   57      0\n",
      "13     1   189    60    23   846  30.1  0.398   59      1\n",
      "14     5   166    72    19   175  25.8  0.587   51      1\n",
      "15     7   100     0     0     0  30.0  0.484   32      1\n",
      "16     0   118    84    47   230  45.8  0.551   31      1\n",
      "17     7   107    74     0     0  29.6  0.254   31      1\n",
      "18     1   103    30    38    83  43.3  0.183   33      0\n",
      "19     1   115    70    30    96  34.6  0.529   32      1\n",
      "Missing Data: preg      0\n",
      "plas      0\n",
      "pres      0\n",
      "skin      0\n",
      "test      0\n",
      "mass     11\n",
      "pedi      0\n",
      "age       0\n",
      "class     0\n",
      "dtype: int64\n",
      "\n",
      "\n",
      "\n",
      "(768, 9)\n",
      "(757, 9)\n"
     ]
    }
   ],
   "source": [
    "data = pd.read_csv(fileName, names=namesCol)\n",
    "print(data.isnull().sum())\n",
    "data[\"mass\"] = data[\"mass\"].mask(data[\"mass\"] == 0, np.NaN)\n",
    "print(data.head(20))\n",
    "print(\"Missing Data:\", data.isnull().sum())\n",
    "print(\"\\n\\n\")\n",
    "\n",
    "print(data.shape)\n",
    "#drop rows with missing values\n",
    "data.dropna(inplace=True)\n",
    "print(data.shape)"
   ]
  },
  {
   "cell_type": "code",
   "execution_count": 9,
   "metadata": {},
   "outputs": [
    {
     "name": "stdout",
     "output_type": "stream",
     "text": [
      "preg     0\n",
      "plas     0\n",
      "pres     0\n",
      "skin     0\n",
      "test     0\n",
      "mass     0\n",
      "pedi     0\n",
      "age      0\n",
      "class    0\n",
      "dtype: int64\n",
      "    preg  plas  pres  skin  test  mass   pedi  age  class\n",
      "0      6   148    72  35.0     0  33.6  0.627   50      1\n",
      "1      1    85    66  29.0     0  26.6  0.351   31      0\n",
      "2      8   183    64   NaN     0  23.3  0.672   32      1\n",
      "3      1    89    66  23.0    94  28.1  0.167   21      0\n",
      "4      0   137    40  35.0   168  43.1  2.288   33      1\n",
      "5      5   116    74   NaN     0  25.6  0.201   30      0\n",
      "6      3    78    50  32.0    88  31.0  0.248   26      1\n",
      "7     10   115     0   NaN     0  35.3  0.134   29      0\n",
      "8      2   197    70  45.0   543  30.5  0.158   53      1\n",
      "10     4   110    92   NaN     0  37.6  0.191   30      0\n",
      "11    10   168    74   NaN     0  38.0  0.537   34      1\n",
      "12    10   139    80   NaN     0  27.1  1.441   57      0\n",
      "13     1   189    60  23.0   846  30.1  0.398   59      1\n",
      "14     5   166    72  19.0   175  25.8  0.587   51      1\n",
      "15     7   100     0   NaN     0  30.0  0.484   32      1\n",
      "16     0   118    84  47.0   230  45.8  0.551   31      1\n",
      "17     7   107    74   NaN     0  29.6  0.254   31      1\n",
      "18     1   103    30  38.0    83  43.3  0.183   33      0\n",
      "19     1   115    70  30.0    96  34.6  0.529   32      1\n",
      "20     3   126    88  41.0   235  39.3  0.704   27      0\n",
      "Missing Data: preg       0\n",
      "plas       0\n",
      "pres       0\n",
      "skin     218\n",
      "test       0\n",
      "mass       0\n",
      "pedi       0\n",
      "age        0\n",
      "class      0\n",
      "dtype: int64\n",
      "\n",
      "\n",
      "\n",
      "(757, 9)\n",
      "    preg  plas  pres       skin  test  mass   pedi  age  class\n",
      "0      6   148    72  35.000000     0  33.6  0.627   50      1\n",
      "1      1    85    66  29.000000     0  26.6  0.351   31      0\n",
      "2      8   183    64  29.176252     0  23.3  0.672   32      1\n",
      "3      1    89    66  23.000000    94  28.1  0.167   21      0\n",
      "4      0   137    40  35.000000   168  43.1  2.288   33      1\n",
      "5      5   116    74  29.176252     0  25.6  0.201   30      0\n",
      "6      3    78    50  32.000000    88  31.0  0.248   26      1\n",
      "7     10   115     0  29.176252     0  35.3  0.134   29      0\n",
      "8      2   197    70  45.000000   543  30.5  0.158   53      1\n",
      "10     4   110    92  29.176252     0  37.6  0.191   30      0\n",
      "11    10   168    74  29.176252     0  38.0  0.537   34      1\n",
      "12    10   139    80  29.176252     0  27.1  1.441   57      0\n",
      "13     1   189    60  23.000000   846  30.1  0.398   59      1\n",
      "14     5   166    72  19.000000   175  25.8  0.587   51      1\n",
      "15     7   100     0  29.176252     0  30.0  0.484   32      1\n",
      "16     0   118    84  47.000000   230  45.8  0.551   31      1\n",
      "17     7   107    74  29.176252     0  29.6  0.254   31      1\n",
      "18     1   103    30  38.000000    83  43.3  0.183   33      0\n",
      "19     1   115    70  30.000000    96  34.6  0.529   32      1\n",
      "20     3   126    88  41.000000   235  39.3  0.704   27      0\n",
      "Missing Data: preg     0\n",
      "plas     0\n",
      "pres     0\n",
      "skin     0\n",
      "test     0\n",
      "mass     0\n",
      "pedi     0\n",
      "age      0\n",
      "class    0\n",
      "dtype: int64\n",
      "\n",
      "\n",
      "\n",
      "(757, 9)\n"
     ]
    }
   ],
   "source": [
    "print(data.isnull().sum())\n",
    "data[\"skin\"] = data[\"skin\"].mask(data[\"skin\"] == 0, np.NaN)\n",
    "print(data.head(20))\n",
    "print(\"Missing Data:\", data.isnull().sum())\n",
    "print(\"\\n\\n\")\n",
    "print(data.shape)\n",
    "# fill missing values with mean column values, can add any other value here\n",
    "data.fillna(data.mean(), inplace=True)\n",
    "print(data.head(20))\n",
    "print(\"Missing Data:\", data.isnull().sum())\n",
    "print(\"\\n\\n\")\n",
    "print(data.shape)\n"
   ]
  },
  {
   "cell_type": "code",
   "execution_count": 22,
   "metadata": {},
   "outputs": [],
   "source": [
    "##Creating the new cleaned version of the Csv on your file system.\n",
    "data.to_csv(r\"C:\\Users\\smaxw\\Downloads\\pima_cleaned.csv\", header=False)"
   ]
  },
  {
   "cell_type": "code",
   "execution_count": 11,
   "metadata": {},
   "outputs": [
    {
     "name": "stdout",
     "output_type": "stream",
     "text": [
      "preg \t 0.2164719506423019\n",
      "plas \t 0.4659062526390712\n",
      "pres \t 0.05258486236656619\n",
      "skin \t 0.21536426871181405\n",
      "test \t 0.128887643885505\n",
      "mass \t 0.3136804821984411\n",
      "pedi \t 0.17961545284275693\n",
      "age \t 0.2360291074222656\n"
     ]
    }
   ],
   "source": [
    "#print(data.corr())\n",
    "for col in namesCol[:-1]:\n",
    "    print(col,\"\\t\", data[col].corr(data[\"class\"]))"
   ]
  },
  {
   "cell_type": "code",
   "execution_count": 12,
   "metadata": {},
   "outputs": [
    {
     "name": "stdout",
     "output_type": "stream",
     "text": [
      "\n",
      "preg            37.12\n",
      "plas           209.32\n",
      "pres             2.09\n",
      "skin            36.72\n",
      "test            12.75\n",
      "mass             82.4\n",
      "pedi            25.17\n",
      "age             44.54\n"
     ]
    }
   ],
   "source": [
    "array = data.values\n",
    "\n",
    "# get seperated input and classifies, using a deep copy of a list\n",
    "X = array[:,0:8]\n",
    "Y = array[:,8]\n",
    "\n",
    "test = feature_selection.SelectKBest(score_func=feature_selection.f_regression,k=4)\n",
    "fit = test.fit(X, Y)\n",
    "print()\n",
    "# have to manually display as no function to do so available\n",
    "\n",
    "for index, result in enumerate(fit.scores_):\n",
    "    print(\"{0:10}\".format(namesCol[index]),\"{0:10}\".format(round(result,2)))"
   ]
  },
  {
   "cell_type": "code",
   "execution_count": 13,
   "metadata": {},
   "outputs": [
    {
     "name": "stdout",
     "output_type": "stream",
     "text": [
      "\n",
      "preg           104.66\n",
      "plas          1392.55\n",
      "pres            10.03\n",
      "skin            94.11\n",
      "test          2079.97\n",
      "mass           109.91\n",
      "pedi              5.6\n",
      "age            173.16\n"
     ]
    }
   ],
   "source": [
    "array = data.values\n",
    "# get seperated input and classifies, using a deep copy of a list\n",
    "X = array[:,0:8]\n",
    "Y = array[:,8]\n",
    "test = feature_selection.SelectKBest(score_func=feature_selection.chi2, k=4)\n",
    "fit = test.fit(X, Y)\n",
    "print()\n",
    "# have to manually display as no function to do so available\n",
    "\n",
    "for index, result in enumerate(fit.scores_):\n",
    "    print(\"{0:10}\".format(namesCol[index]),\"{0:10}\".format(round(result,2)))"
   ]
  },
  {
   "cell_type": "code",
   "execution_count": 14,
   "metadata": {},
   "outputs": [
    {
     "name": "stdout",
     "output_type": "stream",
     "text": [
      "Num Features: 3\n",
      "\n",
      "Attribute  Select?    Rank      \n",
      "--------------------\n",
      "preg       1          1         \n",
      "plas       0          2         \n",
      "pres       0          4         \n",
      "skin       0          5         \n",
      "test       0          6         \n",
      "mass       1          1         \n",
      "pedi       1          1         \n",
      "age        0          3         \n"
     ]
    },
    {
     "name": "stderr",
     "output_type": "stream",
     "text": [
      "C:\\Dev\\Anaconda\\lib\\site-packages\\sklearn\\utils\\validation.py:68: FutureWarning: Pass n_features_to_select=3 as keyword args. From version 0.25 passing these as positional arguments will result in an error\n",
      "  warnings.warn(\"Pass {} as keyword args. From version 0.25 \"\n",
      "C:\\Dev\\Anaconda\\lib\\site-packages\\sklearn\\linear_model\\_logistic.py:762: ConvergenceWarning: lbfgs failed to converge (status=1):\n",
      "STOP: TOTAL NO. of ITERATIONS REACHED LIMIT.\n",
      "\n",
      "Increase the number of iterations (max_iter) or scale the data as shown in:\n",
      "    https://scikit-learn.org/stable/modules/preprocessing.html\n",
      "Please also refer to the documentation for alternative solver options:\n",
      "    https://scikit-learn.org/stable/modules/linear_model.html#logistic-regression\n",
      "  n_iter_i = _check_optimize_result(\n"
     ]
    }
   ],
   "source": [
    "array = data.values\n",
    "# get seperated input and classifies, using a deep copy of a list\n",
    "X = array[:,0:8]\n",
    "Y = array[:,8]\n",
    "model = linear_model.LogisticRegression()\n",
    "rfe = feature_selection.RFE(model, 3)\n",
    "fit = rfe.fit(X, Y)\n",
    "print(\"Num Features: %d\" % fit.n_features_)\n",
    "print(\"\\n{0:<10}\".format(\"Attribute\"),\"{0:<10}\".format(\"Select?\"), \"{0:<10}\".format(\"Rank\"))\n",
    "print(\"--------------------\")\n",
    "\n",
    "for index, result in enumerate(list(fit.ranking_)):\n",
    "    print(\"{0:<10}\".format(namesCol[index]),\"{0:<10}\".format(fit.support_[index]),\"{0:<10}\".format(result))"
   ]
  },
  {
   "cell_type": "code",
   "execution_count": 15,
   "metadata": {},
   "outputs": [
    {
     "name": "stdout",
     "output_type": "stream",
     "text": [
      "PCA Component 1  explains the following variance : 89.93 %\n",
      "PCA Component 2  explains the following variance : 6.22 %\n",
      "\n",
      "PCA Component 1\n",
      "\tAttribute  PCA       \n",
      "\t-------------------------------------\n",
      "\tpreg       -0.0019924000361827027\n",
      "\tplas       0.0973205203165094\n",
      "\tpres       0.012267140182001085\n",
      "\tskin       0.008936565765260647\n",
      "\ttest       0.9950634025127828\n",
      "\tmass       0.011371593967224598\n",
      "\tpedi       0.0005244827250864524\n",
      "\tage        -0.003693031234409591\n",
      "\n",
      "PCA Component 2\n",
      "\tAttribute  PCA       \n",
      "\t-------------------------------------\n",
      "\tpreg       -0.022052365281456383\n",
      "\tplas       -0.9763910845607138\n",
      "\tpres       -0.11810293108256546\n",
      "\tskin       -0.05281942896787222\n",
      "\ttest       0.09737168681306291\n",
      "\tmass       -0.04290011268383873\n",
      "\tpedi       -0.0008233059819544631\n",
      "\tage        -0.13458679680865238\n"
     ]
    }
   ],
   "source": [
    "array = data.values\n",
    "# get seperated input and classifies, using a deep copy of a list\n",
    "X = array[:,0:8]\n",
    "Y = array[:,8]\n",
    "noOfPrincipalComponents = 2\n",
    "pca = decomposition.PCA(n_components=noOfPrincipalComponents)\n",
    "fit = pca.fit(X)\n",
    "\n",
    "for component in range(noOfPrincipalComponents):\n",
    "    print(\"PCA Component\",(component + 1), \" explains the following variance :\",round(fit.explained_variance_ratio_[component] *100, 2), \"%\")\n",
    "\n",
    "for component in range(noOfPrincipalComponents):\n",
    "    print(\"\\nPCA Component\",(component + 1))\n",
    "    print(\"\\t{0:<10}\".format(\"Attribute\"), \"{0:<10}\".format(\"PCA\"))\n",
    "    print(\"\\t-------------------------------------\")\n",
    "\n",
    "    for index, result in enumerate(fit.components_[component]):\n",
    "        print(\"\\t{0:10}\".format(namesCol[index]), \"{0:10}\".format(result))"
   ]
  },
  {
   "cell_type": "code",
   "execution_count": 16,
   "metadata": {},
   "outputs": [],
   "source": [
    " # Convert to an array\n",
    "array = data.values\n",
    "X = array[:,0:8]\n",
    "Y = array[:,8]\n",
    "scaler = preprocessing.Normalizer().fit(X)\n",
    "normalizedX = scaler.transform(X)\n",
    "normalizedX = pd.DataFrame(normalizedX)\n",
    "Y = pd.DataFrame(Y)\n",
    "outData = pd.concat([normalizedX, Y], axis=1, sort=False)\n",
    "\n",
    "outData.to_csv(\"exampleNorm.csv\", header = False, index = False)"
   ]
  },
  {
   "cell_type": "code",
   "execution_count": 17,
   "metadata": {},
   "outputs": [],
   "source": [
    "# Convert to an array\n",
    "array = data.values\n",
    "X = array[:,0:8]\n",
    "Y = array[:,8]\n",
    "scaler = preprocessing.StandardScaler().fit(X)\n",
    "normalizedX = scaler.transform(X)\n",
    "normalizedX = pd.DataFrame(normalizedX)\n",
    "Y = pd.DataFrame(Y)\n",
    "outData = pd.concat([normalizedX, Y], axis=1, sort=False)\n",
    "outData.to_csv(\"exampleStand.csv\", header = False, index = False)\n"
   ]
  },
  {
   "cell_type": "code",
   "execution_count": null,
   "metadata": {},
   "outputs": [],
   "source": []
  }
 ],
 "metadata": {
  "kernelspec": {
   "display_name": "Python 3",
   "language": "python",
   "name": "python3"
  },
  "language_info": {
   "codemirror_mode": {
    "name": "ipython",
    "version": 3
   },
   "file_extension": ".py",
   "mimetype": "text/x-python",
   "name": "python",
   "nbconvert_exporter": "python",
   "pygments_lexer": "ipython3",
   "version": "3.8.3"
  }
 },
 "nbformat": 4,
 "nbformat_minor": 4
}
