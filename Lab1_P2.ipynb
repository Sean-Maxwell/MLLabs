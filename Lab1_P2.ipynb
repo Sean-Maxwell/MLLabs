{
 "cells": [
  {
   "cell_type": "code",
   "execution_count": 1,
   "metadata": {},
   "outputs": [],
   "source": [
    "import pandas as pd\n",
    "import os\n",
    "import numpy as np\n",
    "import statistics as stats\n",
    "import matplotlib.pyplot as plt\n",
    "import csv"
   ]
  },
  {
   "cell_type": "code",
   "execution_count": 6,
   "metadata": {},
   "outputs": [
    {
     "data": {
      "text/html": [
       "<div>\n",
       "<style scoped>\n",
       "    .dataframe tbody tr th:only-of-type {\n",
       "        vertical-align: middle;\n",
       "    }\n",
       "\n",
       "    .dataframe tbody tr th {\n",
       "        vertical-align: top;\n",
       "    }\n",
       "\n",
       "    .dataframe thead th {\n",
       "        text-align: right;\n",
       "    }\n",
       "</style>\n",
       "<table border=\"1\" class=\"dataframe\">\n",
       "  <thead>\n",
       "    <tr style=\"text-align: right;\">\n",
       "      <th></th>\n",
       "      <th>NumPreg</th>\n",
       "      <th>Plasma</th>\n",
       "      <th>blood pressure (mm Hg)</th>\n",
       "      <th>Triceps</th>\n",
       "      <th>Insulin (mm)</th>\n",
       "      <th>BMI</th>\n",
       "      <th>DPF</th>\n",
       "      <th>Age</th>\n",
       "      <th>Variable</th>\n",
       "    </tr>\n",
       "  </thead>\n",
       "  <tbody>\n",
       "    <tr>\n",
       "      <th>0</th>\n",
       "      <td>6</td>\n",
       "      <td>148</td>\n",
       "      <td>72</td>\n",
       "      <td>35</td>\n",
       "      <td>0</td>\n",
       "      <td>33.6</td>\n",
       "      <td>0.627</td>\n",
       "      <td>50</td>\n",
       "      <td>1</td>\n",
       "    </tr>\n",
       "    <tr>\n",
       "      <th>1</th>\n",
       "      <td>1</td>\n",
       "      <td>85</td>\n",
       "      <td>66</td>\n",
       "      <td>29</td>\n",
       "      <td>0</td>\n",
       "      <td>26.6</td>\n",
       "      <td>0.351</td>\n",
       "      <td>31</td>\n",
       "      <td>0</td>\n",
       "    </tr>\n",
       "    <tr>\n",
       "      <th>2</th>\n",
       "      <td>8</td>\n",
       "      <td>183</td>\n",
       "      <td>64</td>\n",
       "      <td>0</td>\n",
       "      <td>0</td>\n",
       "      <td>23.3</td>\n",
       "      <td>0.672</td>\n",
       "      <td>32</td>\n",
       "      <td>1</td>\n",
       "    </tr>\n",
       "    <tr>\n",
       "      <th>3</th>\n",
       "      <td>1</td>\n",
       "      <td>89</td>\n",
       "      <td>66</td>\n",
       "      <td>23</td>\n",
       "      <td>94</td>\n",
       "      <td>28.1</td>\n",
       "      <td>0.167</td>\n",
       "      <td>21</td>\n",
       "      <td>0</td>\n",
       "    </tr>\n",
       "    <tr>\n",
       "      <th>4</th>\n",
       "      <td>0</td>\n",
       "      <td>137</td>\n",
       "      <td>40</td>\n",
       "      <td>35</td>\n",
       "      <td>168</td>\n",
       "      <td>43.1</td>\n",
       "      <td>2.288</td>\n",
       "      <td>33</td>\n",
       "      <td>1</td>\n",
       "    </tr>\n",
       "  </tbody>\n",
       "</table>\n",
       "</div>"
      ],
      "text/plain": [
       "   NumPreg  Plasma  blood pressure (mm Hg)  Triceps  Insulin (mm)   BMI  \\\n",
       "0        6     148                      72       35             0  33.6   \n",
       "1        1      85                      66       29             0  26.6   \n",
       "2        8     183                      64        0             0  23.3   \n",
       "3        1      89                      66       23            94  28.1   \n",
       "4        0     137                      40       35           168  43.1   \n",
       "\n",
       "     DPF  Age  Variable  \n",
       "0  0.627   50         1  \n",
       "1  0.351   31         0  \n",
       "2  0.672   32         1  \n",
       "3  0.167   21         0  \n",
       "4  2.288   33         1  "
      ]
     },
     "execution_count": 6,
     "metadata": {},
     "output_type": "execute_result"
    }
   ],
   "source": [
    "##Reading in the html file\n",
    "v = pd.read_csv(r'C:\\Users\\smaxw\\Downloads\\pima-indians-diabetes.csv')\n",
    "v.head()\n"
   ]
  },
  {
   "cell_type": "code",
   "execution_count": 13,
   "metadata": {},
   "outputs": [
    {
     "name": "stdout",
     "output_type": "stream",
     "text": [
      "   NumPreg  Plasma  blood pressure (mm Hg)  Triceps  Insulin (mm)   BMI  \\\n",
      "0        6     148                      72       35             0  33.6   \n",
      "1        1      85                      66       29             0  26.6   \n",
      "2        8     183                      64        0             0  23.3   \n",
      "3        1      89                      66       23            94  28.1   \n",
      "4        0     137                      40       35           168  43.1   \n",
      "\n",
      "     DPF  Age  Variable  \n",
      "0  0.627   50         1  \n",
      "1  0.351   31         0  \n",
      "2  0.672   32         1  \n",
      "3  0.167   21         0  \n",
      "4  2.288   33         1  \n",
      "NumPreg\tPlasma\tblood pressure (mm Hg)\tTriceps\tInsulin (mm)\tBMI\tDPF\tAge\tVariable\t"
     ]
    }
   ],
   "source": [
    "##Printing just the first 5 columns for tidyness\n",
    "print(v.head())\n",
    "\n",
    "##For loop printing in out the tables in a tabular format.\n",
    "for item in v:\n",
    "    print(item,end=\"\\t\")"
   ]
  },
  {
   "cell_type": "code",
   "execution_count": 18,
   "metadata": {},
   "outputs": [
    {
     "name": "stdout",
     "output_type": "stream",
     "text": [
      "3.8450520833333335\n",
      "0\n",
      "17\n"
     ]
    }
   ],
   "source": [
    "##Print, min, max and average age and number of times pregnant\n",
    "a=v['NumPreg'].mean()\n",
    "b=v['NumPreg'].min()\n",
    "c=v['NumPreg'].max()\n",
    "\n",
    "print(a)\n",
    "print(b)\n",
    "print(c)"
   ]
  },
  {
   "cell_type": "code",
   "execution_count": 34,
   "metadata": {},
   "outputs": [
    {
     "name": "stdout",
     "output_type": "stream",
     "text": [
      "The number of Yes's are :  NumPreg                   768\n",
      "Plasma                    768\n",
      "blood pressure (mm Hg)    768\n",
      "Triceps                   768\n",
      "Insulin (mm)              768\n",
      "BMI                       768\n",
      "DPF                       768\n",
      "Age                       768\n",
      "Variable                  768\n",
      "dtype: int64\n",
      "The number of No's are :  NumPreg                   768\n",
      "Plasma                    768\n",
      "blood pressure (mm Hg)    768\n",
      "Triceps                   768\n",
      "Insulin (mm)              768\n",
      "BMI                       768\n",
      "DPF                       768\n",
      "Age                       768\n",
      "Variable                  768\n",
      "dtype: int64\n"
     ]
    }
   ],
   "source": [
    "\n",
    "NumOfOnes = v.count()\n",
    "NumOfZeros = v.count()\n",
    "\n",
    "print (\"The number of Yes's are : \",NumOfOnes)\n",
    "print (\"The number of No's are : \",NumOfZeros)"
   ]
  },
  {
   "cell_type": "code",
   "execution_count": 36,
   "metadata": {},
   "outputs": [
    {
     "data": {
      "image/png": "[encoded data removed]",
      "text/plain": [
       "<Figure size 432x288 with 1 Axes>"
      ]
     },
     "metadata": {
      "needs_background": "light"
     },
     "output_type": "display_data"
    }
   ],
   "source": [
    "##Reading file, needs to be done as a pre-requisite to the counting of instances \n",
    "file = open(r'C:\\Users\\smaxw\\Downloads\\pima-indians-diabetes.csv')\n",
    "\n",
    "## Counting the number of instances in the pima-indians-diabetes.csv file\n",
    "data = file.read()\n",
    "\n",
    "\n",
    "plt.xlabel('x')\n",
    "plt.ylabel('Number of times pregnant')\n",
    "plt.plot([10, 20, 30, 40, 50, 60, 70, 80, 90])\n",
    "\n",
    "plt.title('Temperature measurement')\n",
    "plt.show()"
   ]
  },
  {
   "cell_type": "code",
   "execution_count": null,
   "metadata": {},
   "outputs": [],
   "source": []
  }
 ],
 "metadata": {
  "kernelspec": {
   "display_name": "Python 3",
   "language": "python",
   "name": "python3"
  },
  "language_info": {
   "codemirror_mode": {
    "name": "ipython",
    "version": 3
   },
   "file_extension": ".py",
   "mimetype": "text/x-python",
   "name": "python",
   "nbconvert_exporter": "python",
   "pygments_lexer": "ipython3",
   "version": "3.8.3"
  }
 },
 "nbformat": 4,
 "nbformat_minor": 4
}
